{
 "cells": [
  {
   "cell_type": "code",
   "execution_count": 1,
   "id": "4e34f0fd",
   "metadata": {},
   "outputs": [
    {
     "name": "stderr",
     "output_type": "stream",
     "text": [
      "c:\\Users\\ghost\\miniconda3\\envs\\de_en\\lib\\site-packages\\tqdm\\auto.py:21: TqdmWarning: IProgress not found. Please update jupyter and ipywidgets. See https://ipywidgets.readthedocs.io/en/stable/user_install.html\n",
      "  from .autonotebook import tqdm as notebook_tqdm\n",
      "c:\\Users\\ghost\\miniconda3\\envs\\de_en\\lib\\site-packages\\coqpit\\coqpit.py:864: UserWarning: Type mismatch in Tacotron2Config\n",
      "Failed to deserialize field: d_vector_file (str | None) = False\n",
      "Replaced it with field's default value: None\n",
      "  self.deserialize(data)\n"
     ]
    }
   ],
   "source": [
    "from services.models import gemini_model"
   ]
  },
  {
   "cell_type": "code",
   "execution_count": 43,
   "id": "2c4b5da5",
   "metadata": {},
   "outputs": [],
   "source": [
    "system_prompt=\"\"\"\n",
    "You are a German language tutor creating structured language learning material.\n",
    "\n",
    "1. Choose a relevant and realistic topic suitable for learners in Germany (e.g., , introductions, news, daily life, environment, education, technology, work, astronomy, science, math, movies, music, hobbies etc.).\n",
    "2. Write a short article in German appropriate for CEFR level {level}.\n",
    "   - Level A1: very basic vocabulary, present tense\n",
    "   - Level A2: simple past, daily expressions\n",
    "   - Level B1: opinions and cause-effect\n",
    "   - Level B2: abstract ideas, arguments\n",
    "   - Level C1: academic, formal expressions\n",
    "   - Level C2: near-native fluency and complexity\n",
    "3. Create 11 questions in German based on the article:\n",
    "   - Questions 1–3: Easy – simple comprehension or vocabulary\n",
    "   - Questions 4–7: Medium – reasoning, why/how questions\n",
    "   - Questions 8–11: Hard – inference, opinion, or rephrasing\n",
    "4. Write the correct answer to each question in German.\n",
    "\n",
    "Return everything in valid JSON format like this:\n",
    "\n",
    "{{\n",
    "  \"level\": \"{level}\",\n",
    "  \"topic\": \"[Insert selected topic]\",\n",
    "  \"article\": \"[Insert full article in German]\",\n",
    "  \"questions\": [\n",
    "    {{\n",
    "      \"question\": \"1. ...\",\n",
    "      \"answer\": \"...\"\n",
    "    }},\n",
    "    {{\n",
    "      \"question\": \"2. ...\",\n",
    "      \"answer\": \"...\"\n",
    "    }},\n",
    "    ...\n",
    "    {{\n",
    "      \"question\": \"11. ...\",\n",
    "      \"answer\": \"...\"\n",
    "    }}\n",
    "  ]\n",
    "}}\n",
    "\n",
    "Only output valid JSON — no extra explanation, no markdown, no formatting outside of JSON.\n",
    "\"\"\"\n"
   ]
  },
  {
   "cell_type": "code",
   "execution_count": 44,
   "id": "be6ef096",
   "metadata": {},
   "outputs": [],
   "source": [
    "prompt = system_prompt.format(level=\"A2\")"
   ]
  },
  {
   "cell_type": "code",
   "execution_count": 45,
   "id": "67263409",
   "metadata": {},
   "outputs": [],
   "source": [
    "result = gemini_model.generate_content(prompt)"
   ]
  },
  {
   "cell_type": "code",
   "execution_count": 46,
   "id": "d2a83b74",
   "metadata": {},
   "outputs": [
    {
     "name": "stdout",
     "output_type": "stream",
     "text": [
      "```json\n",
      "{\n",
      "  \"level\": \"A2\",\n",
      "  \"topic\": \"Das Wochenende\",\n",
      "  \"article\": \"Letztes Wochenende war ich in Berlin. Am Samstag bin ich mit dem Zug gefahren. Die Fahrt war lang, aber ich habe ein Buch gelesen. In Berlin habe ich meine Freundin Anna getroffen. Wir haben zusammen in einem Café gefrühstückt. Am Nachmittag haben wir das Brandenburger Tor und den Reichstag besichtigt. Es war sehr interessant. Am Abend waren wir in einem Restaurant essen. Das Essen war lecker! Am Sonntag haben wir einen Spaziergang im Tiergarten gemacht. Es war ein schöner Tag. Am Abend bin ich wieder mit dem Zug nach Hause gefahren. Ich war müde, aber glücklich. Das Wochenende in Berlin war toll!\",\n",
      "  \"questions\": [\n",
      "    {\n",
      "      \"question\": \"1. Wo war die Person letztes Wochenende?\",\n",
      "      \"answer\": \"Die Person war letztes Wochenende in Berlin.\"\n",
      "    },\n",
      "    {\n",
      "      \"question\": \"2. Wie ist die Person nach Berlin gefahren?\",\n",
      "      \"answer\": \"Die Person ist mit dem Zug nach Berlin gefahren.\"\n",
      "    },\n",
      "    {\n",
      "      \"question\": \"3. Wen hat die Person in Berlin getroffen?\",\n",
      "      \"answer\": \"Die Person hat ihre Freundin Anna in Berlin getroffen.\"\n",
      "    },\n",
      "    {\n",
      "      \"question\": \"4. Was haben sie am Samstagvormittag gemacht?\",\n",
      "      \"answer\": \"Sie haben zusammen in einem Café gefrühstückt.\"\n",
      "    },\n",
      "    {\n",
      "      \"question\": \"5. Welche Sehenswürdigkeiten haben sie besichtigt?\",\n",
      "      \"answer\": \"Sie haben das Brandenburger Tor und den Reichstag besichtigt.\"\n",
      "    },\n",
      "    {\n",
      "      \"question\": \"6. Was haben sie am Samstagabend gemacht?\",\n",
      "      \"answer\": \"Sie waren in einem Restaurant essen.\"\n",
      "    },\n",
      "    {\n",
      "      \"question\": \"7. Was haben sie am Sonntag im Tiergarten gemacht?\",\n",
      "      \"answer\": \"Sie haben einen Spaziergang gemacht.\"\n",
      "    },\n",
      "    {\n",
      "      \"question\": \"8. Warum war die Person am Ende des Wochenendes müde?\",\n",
      "      \"answer\": \"Die Person war müde, weil die Zugfahrt lang war und sie viel unternommen hat.\"\n",
      "    },\n",
      "    {\n",
      "      \"question\": \"9. War das Wochenende gut, oder schlecht? Warum?\",\n",
      "      \"answer\": \"Das Wochenende war toll, weil die Person ihre Freundin getroffen und interessante Dinge gesehen hat.\"\n",
      "    },\n",
      "    {\n",
      "      \"question\": \"10. Was bedeutet 'besichtigt' in diesem Text?\",\n",
      "      \"answer\": \"'Besichtigt' bedeutet, dass sie die Sehenswürdigkeiten angeschaut und erkundet haben.\"\n",
      "    },\n",
      "    {\n",
      "      \"question\": \"11. Was würdest du in Berlin machen?\",\n",
      "      \"answer\": \"Das ist eine persönliche Frage. Eine mögliche Antwort wäre: Ich würde auch die Museen besuchen und ein Currywurst essen.\"\n",
      "    }\n",
      "  ]\n",
      "}\n",
      "```\n"
     ]
    }
   ],
   "source": [
    "print(result.text)"
   ]
  },
  {
   "cell_type": "code",
   "execution_count": 40,
   "id": "2f31fd9c",
   "metadata": {},
   "outputs": [],
   "source": [
    "import re\n",
    "import json"
   ]
  },
  {
   "cell_type": "code",
   "execution_count": 41,
   "id": "82df08cb",
   "metadata": {},
   "outputs": [],
   "source": [
    "cleaned_data = re.sub(r\"```json|```\", \"\", result.text).strip()\n",
    "cleaned_data = json.loads(cleaned_data)\n"
   ]
  },
  {
   "cell_type": "code",
   "execution_count": 42,
   "id": "7c6a42d4",
   "metadata": {},
   "outputs": [
    {
     "data": {
      "text/plain": [
       "{'level': 'C2',\n",
       " 'topic': 'Die Zukunft der Arbeit in Deutschland: Ein Paradigmenwechsel',\n",
       " 'article': \"Die deutsche Arbeitswelt befindet sich inmitten eines tiefgreifenden Wandels. Automatisierung, Künstliche Intelligenz und die zunehmende Digitalisierung sämtlicher Wirtschaftsbereiche stellen etablierte Strukturen und Kompetenzen in Frage. Längst geht es nicht mehr nur um die Substitution repetitiver Tätigkeiten durch Roboter. Vielmehr betrifft der Wandel nun auch höherqualifizierte Berufe, die traditionell als krisensicher galten. Die sogenannte 'Gig Economy' mit ihren prekären Arbeitsverhältnissen und dem Verlust sozialer Sicherheiten breitet sich aus, während gleichzeitig ein Fachkräftemangel in Schlüsselindustrien herrscht. \\n\\nDiese Dichotomie erfordert ein Umdenken in Politik und Wirtschaft. Lebenslanges Lernen wird zur Notwendigkeit, und die Anpassungsfähigkeit des Einzelnen ist gefragter denn je. Universitäten und Berufsschulen müssen ihre Curricula überdenken und praxisnahe Qualifikationen vermitteln, die den Anforderungen des modernen Arbeitsmarktes entsprechen. \\n\\nEs stellt sich die Frage, wie wir die Chancen der Digitalisierung nutzen können, ohne die soziale Kohäsion zu gefährden. Eine aktive Gestaltung des Wandels, die sowohl ökonomische Effizienz als auch soziale Gerechtigkeit berücksichtigt, ist unerlässlich. Dies erfordert eine umfassende Debatte über die Rolle des Staates, die Notwendigkeit neuer Formen der sozialpartnerschaftlichen Zusammenarbeit und die Entwicklung innovativer Modelle der Arbeitszeitgestaltung und sozialen Sicherung. Nur so kann Deutschland seine Position als führende Wirtschaftsnation auch in Zukunft behaupten.\",\n",
       " 'questions': [{'question': '1. Welche drei Hauptfaktoren werden im Artikel als Ursache für den Wandel in der deutschen Arbeitswelt genannt?',\n",
       "   'answer': 'Automatisierung, Künstliche Intelligenz und die zunehmende Digitalisierung.'},\n",
       "  {'question': \"2. Was versteht man unter dem Begriff 'Gig Economy'?\",\n",
       "   'answer': \"Die 'Gig Economy' bezeichnet eine Wirtschaftsform mit prekären Arbeitsverhältnissen und dem Verlust sozialer Sicherheiten.\"},\n",
       "  {'question': \"3. Welches Problem wird neben dem Vormarsch der 'Gig Economy' im Artikel bezüglich des Arbeitsmarktes erwähnt?\",\n",
       "   'answer': 'Ein Fachkräftemangel in Schlüsselindustrien.'},\n",
       "  {'question': '4. Warum wird lebenslanges Lernen als Notwendigkeit bezeichnet?',\n",
       "   'answer': 'Weil die Arbeitswelt sich ständig wandelt und Anpassungsfähigkeit gefragter denn je ist.'},\n",
       "  {'question': '5. Inwiefern müssen Universitäten und Berufsschulen sich an den Wandel anpassen?',\n",
       "   'answer': 'Sie müssen ihre Curricula überdenken und praxisnahe Qualifikationen vermitteln, die den Anforderungen des modernen Arbeitsmarktes entsprechen.'},\n",
       "  {'question': '6. Welche Frage steht im Zentrum der Debatte über die Zukunft der Arbeit?',\n",
       "   'answer': 'Wie wir die Chancen der Digitalisierung nutzen können, ohne die soziale Kohäsion zu gefährden.'},\n",
       "  {'question': '7. Welche Aspekte sind bei der aktiven Gestaltung des Wandels laut Artikel zu berücksichtigen?',\n",
       "   'answer': 'Sowohl ökonomische Effizienz als auch soziale Gerechtigkeit.'},\n",
       "  {'question': '8. Welche Rolle spielt der Staat in der Debatte um die Zukunft der Arbeit, wie im Artikel angedeutet?',\n",
       "   'answer': 'Der Artikel deutet an, dass eine umfassende Debatte über die Rolle des Staates in Bezug auf soziale Sicherung und Arbeitszeitgestaltung notwendig ist.'},\n",
       "  {'question': '9. Inwiefern stellt die Digitalisierung eine Herausforderung für traditionell als krisensicher geltende Berufe dar?',\n",
       "   'answer': 'Der Wandel betrifft nun auch höherqualifizierte Berufe, was bedeutet, dass auch diese Berufe nicht mehr vor Automatisierung und dem Einsatz von KI sicher sind.'},\n",
       "  {'question': '10. Welche Schlussfolgerung lässt sich aus dem Artikel hinsichtlich der Notwendigkeit sozialpartnerschaftlicher Zusammenarbeit ziehen?',\n",
       "   'answer': 'Der Artikel impliziert, dass neue Formen der sozialpartnerschaftlichen Zusammenarbeit unerlässlich sind, um die Herausforderungen des Wandels gemeinsam zu bewältigen.'},\n",
       "  {'question': \"11. Wie könnte die im Artikel geforderte 'aktive Gestaltung des Wandels' konkret aussehen, wenn man innovative Modelle der Arbeitszeitgestaltung und sozialen Sicherung betrachtet?\",\n",
       "   'answer': 'Konkret könnte dies bedeuten, dass man Modelle wie die Vier-Tage-Woche testet, das bedingungslose Grundeinkommen diskutiert oder neue Formen der Weiterbildungsförderung entwickelt, um den Arbeitnehmern die nötigen Qualifikationen für die neuen Anforderungen zu vermitteln.'}]}"
      ]
     },
     "execution_count": 42,
     "metadata": {},
     "output_type": "execute_result"
    }
   ],
   "source": [
    "cleaned_data"
   ]
  },
  {
   "cell_type": "code",
   "execution_count": null,
   "id": "821538bd",
   "metadata": {},
   "outputs": [],
   "source": []
  }
 ],
 "metadata": {
  "kernelspec": {
   "display_name": "de_en",
   "language": "python",
   "name": "python3"
  },
  "language_info": {
   "codemirror_mode": {
    "name": "ipython",
    "version": 3
   },
   "file_extension": ".py",
   "mimetype": "text/x-python",
   "name": "python",
   "nbconvert_exporter": "python",
   "pygments_lexer": "ipython3",
   "version": "3.10.16"
  }
 },
 "nbformat": 4,
 "nbformat_minor": 5
}
