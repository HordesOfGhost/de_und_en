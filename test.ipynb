{
 "cells": [
  {
   "cell_type": "markdown",
   "id": "bfbe1b97",
   "metadata": {},
   "source": [
    "# Import Libraries"
   ]
  },
  {
   "cell_type": "code",
   "execution_count": 1,
   "id": "377601e0",
   "metadata": {},
   "outputs": [
    {
     "name": "stderr",
     "output_type": "stream",
     "text": [
      "c:\\Users\\ghost\\miniconda3\\envs\\de_en\\lib\\site-packages\\tqdm\\auto.py:21: TqdmWarning: IProgress not found. Please update jupyter and ipywidgets. See https://ipywidgets.readthedocs.io/en/stable/user_install.html\n",
      "  from .autonotebook import tqdm as notebook_tqdm\n"
     ]
    }
   ],
   "source": [
    "import google.generativeai as genai  \n",
    "from dotenv import load_dotenv\n",
    "import os"
   ]
  },
  {
   "cell_type": "code",
   "execution_count": 2,
   "id": "7c81e4c3",
   "metadata": {},
   "outputs": [],
   "source": [
    "api_key = os.getenv(\"GOOGLE_API_KEY\")\n",
    "genai.configure(api_key=api_key)  "
   ]
  },
  {
   "cell_type": "code",
   "execution_count": 4,
   "id": "d66340d7",
   "metadata": {},
   "outputs": [],
   "source": [
    "\n",
    "model = genai.GenerativeModel(\"gemini-2.0-flash\")\n"
   ]
  },
  {
   "cell_type": "code",
   "execution_count": 5,
   "id": "6e2cb78a",
   "metadata": {},
   "outputs": [],
   "source": [
    "response = model.generate_content(\"As a German teacher, explain the grammar behind the sentence 'Haben Sie Ihre Online-Bewerbung ausgefüllt?' with a detailed breakdown. Include the roles of each word in the sentence, the word order rules in German questions, and any key grammar points related to this structure.\")"
   ]
  },
  {
   "cell_type": "code",
   "execution_count": 6,
   "id": "83f98e7f",
   "metadata": {},
   "outputs": [
    {
     "name": "stdout",
     "output_type": "stream",
     "text": [
      "Okay, let's break down the German sentence \"Haben Sie Ihre Online-Bewerbung ausgefüllt?\" (\"Have you filled out your online application?\") in a way that explains the grammar thoroughly.\n",
      "\n",
      "**Translation:**\n",
      "\n",
      "*   \"Haben Sie Ihre Online-Bewerbung ausgefüllt?\" = \"Have you filled out your online application?\"\n",
      "\n",
      "**Word-by-Word Breakdown & Grammatical Roles:**\n",
      "\n",
      "*   **Haben:**  Auxiliary Verb (Hilfsverb).\n",
      "    *   This is the conjugated form of the verb \"haben\" (to have) in the present tense, specifically conjugated for \"Sie\" (formal \"you\").\n",
      "    *   *Role:*  In this sentence, \"haben\" functions as the *auxiliary verb* needed to form the perfect tense (Perfekt).  The Perfekt is a common past tense form in spoken German.\n",
      "\n",
      "*   **Sie:** Personal Pronoun (Personalpronomen).\n",
      "    *   This is the formal \"you\" in German.  Remember, German has \"du\" (informal \"you\") and \"Sie\" (formal \"you\").\n",
      "    *   *Role:*  Subject of the sentence.  It's the person *doing* the action.\n",
      "\n",
      "*   **Ihre:** Possessive Pronoun (Possessivpronomen).\n",
      "    *   This is the possessive pronoun meaning \"your\" (formal).  It agrees in gender, number, and case with the noun it modifies.\n",
      "    *   *Role:*  Modifies \"Online-Bewerbung\" (online application), indicating to whom the application belongs.  \"Ihre\" here is feminine, nominative/accusative singular, agreeing with \"Online-Bewerbung\".\n",
      "\n",
      "*   **Online-Bewerbung:** Compound Noun (Substantiv).\n",
      "    *   Composed of \"online\" (English loanword/adjective) and \"Bewerbung\" (application).\n",
      "    *   *Role:* Direct Object (Akkusativobjekt). This is the thing being acted upon. It is feminine (die Bewerbung). The *formality* of the Sie dictates that Ihr also is a possessive determiner that matches that gender.\n",
      "\n",
      "*   **ausgefüllt:** Past Participle (Partizip II) of the verb \"ausfüllen\" (to fill out).\n",
      "    *   This is the \"ge-\" form of the verb, with a separable prefix \"aus-\".\n",
      "    *   *Role:*  Part of the Perfekt tense construction. It combines with the auxiliary verb \"haben\" to express a completed action in the past.  Remember that separable prefixes (like \"aus-\") go to the end of the sentence in the past participle form (Perfekt).\n",
      "\n",
      "**Word Order in German Questions:**\n",
      "\n",
      "This sentence is a *yes/no question* (Ja/Nein-Frage).  The word order rules are crucial for forming questions in German.\n",
      "\n",
      "1.  **Verb First:** In yes/no questions, the *conjugated verb* (in this case, \"haben\") comes *first* in the sentence. This is what signals that it's a question.\n",
      "\n",
      "2.  **Subject Follows:** The subject (\"Sie\") immediately follows the verb.\n",
      "\n",
      "3.  **Remaining Elements:** The rest of the sentence elements (object, adverbial phrases) follow in a generally flexible order, but the past participle (\"ausgefüllt\") *always* goes at the very end when using the Perfekt tense.\n",
      "\n",
      "**General Structure:**\n",
      "\n",
      "Auxiliary Verb (Haben) + Subject (Sie) + Possessive Pronoun (Ihre) + Direct Object (Online-Bewerbung) + Past Participle (ausgefüllt)\n",
      "\n",
      "**Key Grammar Points & Considerations:**\n",
      "\n",
      "*   **Perfekt Tense:**  The sentence uses the Perfekt tense, formed with the auxiliary verb \"haben\" and the past participle.  Most transitive verbs (verbs that take a direct object) and reflexive verbs use \"haben\" as the auxiliary.  Intransitive verbs (verbs that don't take a direct object) that express a change of state or movement often use \"sein\" as the auxiliary.\n",
      "\n",
      "*   **Separable Prefixes:** The verb \"ausfüllen\" has a separable prefix (\"aus-\").  In the *infinitive* form, it's \"ausfüllen.\" In the *past participle* (Perfekt) form, the \"ge-\" goes *between* the prefix and the stem: \"aus-ge-füllt.\"  And remember, the prefix \"aus\" separates and goes to the *very end* of the sentence in its conjugated form.\n",
      "\n",
      "*   **Formal \"Sie\":**  It's important to use the formal \"Sie\" (capitalized) in professional contexts (like job applications). The possessive pronoun \"Ihre\" also reflects this formality.\n",
      "\n",
      "*   **Case:** It's important to understand the case implications of pronouns, adjectives and nouns. As stated above, die Bewerbung is feminine, so Ihr is feminine. It's important also to realize that here, die Bewerbung is the direct object (accusative). Normally, for feminine nouns, accusative and nominative are the same, so that's why it's not as obvious.\n",
      "\n",
      "*   **Compound Nouns:**  German loves compound nouns! \"Online-Bewerbung\" is a good example. The *last* noun in the compound determines the gender of the whole compound. So, since \"Bewerbung\" is feminine (\"die Bewerbung\"), then \"Online-Bewerbung\" is also feminine (\"die Online-Bewerbung\").\n",
      "\n",
      "**In summary:** \"Haben Sie Ihre Online-Bewerbung ausgefüllt?\" is a grammatically correct and polite question in German. It demonstrates the proper use of the Perfekt tense, word order rules for questions, and the formal \"Sie.\" Understanding each element and its role helps you build more complex and accurate sentences in German. Good luck!\n",
      "\n"
     ]
    }
   ],
   "source": [
    "print(response.text)"
   ]
  },
  {
   "cell_type": "code",
   "execution_count": null,
   "id": "dbd38af0",
   "metadata": {},
   "outputs": [],
   "source": []
  }
 ],
 "metadata": {
  "kernelspec": {
   "display_name": "de_en",
   "language": "python",
   "name": "python3"
  },
  "language_info": {
   "codemirror_mode": {
    "name": "ipython",
    "version": 3
   },
   "file_extension": ".py",
   "mimetype": "text/x-python",
   "name": "python",
   "nbconvert_exporter": "python",
   "pygments_lexer": "ipython3",
   "version": "3.10.16"
  }
 },
 "nbformat": 4,
 "nbformat_minor": 5
}
