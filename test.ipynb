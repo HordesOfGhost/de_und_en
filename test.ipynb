{
 "cells": [
  {
   "cell_type": "markdown",
   "id": "bfbe1b97",
   "metadata": {},
   "source": [
    "# Import Libraries"
   ]
  },
  {
   "cell_type": "code",
   "execution_count": 1,
   "id": "377601e0",
   "metadata": {},
   "outputs": [
    {
     "name": "stderr",
     "output_type": "stream",
     "text": [
      "c:\\Users\\ghost\\miniconda3\\envs\\de_en\\lib\\site-packages\\tqdm\\auto.py:21: TqdmWarning: IProgress not found. Please update jupyter and ipywidgets. See https://ipywidgets.readthedocs.io/en/stable/user_install.html\n",
      "  from .autonotebook import tqdm as notebook_tqdm\n"
     ]
    }
   ],
   "source": [
    "import google.generativeai as genai  \n",
    "from dotenv import load_dotenv\n",
    "import os"
   ]
  },
  {
   "cell_type": "code",
   "execution_count": 2,
   "id": "7c81e4c3",
   "metadata": {},
   "outputs": [],
   "source": [
    "api_key = os.getenv(\"GOOGLE_API_KEY\")\n",
    "genai.configure(api_key=api_key)  "
   ]
  },
  {
   "cell_type": "code",
   "execution_count": 3,
   "id": "d66340d7",
   "metadata": {},
   "outputs": [],
   "source": [
    "\n",
    "model = genai.GenerativeModel(\"gemini-2.0-flash\")\n"
   ]
  },
  {
   "cell_type": "code",
   "execution_count": 29,
   "id": "9e36cd87",
   "metadata": {},
   "outputs": [],
   "source": [
    "prompt_template = '''\n",
    "Create a natural-sounding conversation between two or more people about {}.\n",
    "Use realistic, everyday language and natural dialogue flow.\n",
    "Choose random character names. Only provide the conversation—no explanations or descriptions needed.\n",
    "Write the character's name first, followed by their dialogue.\n",
    "Do not include asterisks or any narration.\n",
    "'''\n"
   ]
  },
  {
   "cell_type": "code",
   "execution_count": 42,
   "id": "428c518d",
   "metadata": {},
   "outputs": [],
   "source": [
    "\n",
    "topic = \"about thier university\" \n",
    "prompt = prompt_template.format(topic)\n"
   ]
  },
  {
   "cell_type": "code",
   "execution_count": 43,
   "id": "0ebec3ac",
   "metadata": {},
   "outputs": [
    {
     "name": "stdout",
     "output_type": "stream",
     "text": [
      "Liam: Hey Maya, you heading to Professor Chen's lecture?\n",
      "\n",
      "Maya: Yeah, just grabbing a coffee first. You survived last night's party, I see.\n",
      "\n",
      "Liam: Barely. Sarah threw an absolute rager. Did you make it out?\n",
      "\n",
      "Maya: I was studying for Chen's midterm, sadly. How was it? Worth missing the quadratic formula?\n",
      "\n",
      "Liam: Totally worth it. Until about 2 am. Then I was just questioning all my life choices. Hey, speaking of questioning…\n",
      "\n",
      "Chloe: Liam! Maya! What's up?\n",
      "\n",
      "Liam: Hey Chloe. Just asking Maya if she was at Sarah's party last night. You were there, right?\n",
      "\n",
      "Chloe: Oh god, yes. Way too much jungle juice. I think I accidentally insulted the president of the Accounting Society.\n",
      "\n",
      "Maya: Oh no! What did you say?\n",
      "\n",
      "Chloe: Something about his calculator being outdated. I don't even know. I blacked out most of it. Anyway, what are you guys talking about? Besides my impending social doom?\n",
      "\n",
      "Liam: I was gonna ask Maya what she thought about switching my major to Environmental Science. I’m having second thoughts about engineering.\n",
      "\n",
      "Maya: Honestly, I think you’d be happier. You’re always talking about sustainability and stuff. But it is a big change.\n",
      "\n",
      "Chloe: Yeah, and isn’t the Environmental Science department notoriously competitive at State? My friend, Ben, couldn’t get into half the classes he needed last semester.\n",
      "\n",
      "Liam: That's what I'm worried about. Maybe I should just stick it out with engineering, get the degree, and then…I don't know…volunteer at a park or something.\n",
      "\n",
      "Maya: Don’t sell yourself short, Liam. You’re smart. Talk to Professor Davies in the Environmental Science department. She's super helpful. I had her for Intro to Bio last year.\n",
      "\n",
      "Chloe: Good idea. And maybe lay off the jungle juice while you’re deciding. Clearer head, better decisions, you know?\n",
      "\n",
      "Liam: Ha! Fair enough. Professor Chen’s lecture is starting soon, isn’t it?\n",
      "\n",
      "Maya: Probably. We should head over. Chloe, you coming?\n",
      "\n",
      "Chloe: Nah, skipping Chen today. Gotta go apologize to the Accounting Society dude. Wish me luck.\n",
      "\n",
      "Liam: Good luck! Don’t mention calculators.\n",
      "\n",
      "Maya: Seriously. Good luck! We'll save you a seat next time.\n",
      "\n"
     ]
    }
   ],
   "source": [
    "\n",
    "response = model.generate_content(prompt)\n",
    "print(response.text)\n"
   ]
  },
  {
   "cell_type": "markdown",
   "id": "dbd38af0",
   "metadata": {},
   "source": [
    "# TTS"
   ]
  },
  {
   "cell_type": "code",
   "execution_count": 44,
   "id": "f7f6aded",
   "metadata": {},
   "outputs": [],
   "source": [
    "import re\n",
    "import time\n",
    "import random\n",
    "import os\n",
    "import wave\n",
    "import contextlib\n",
    "from TTS.api import TTS\n"
   ]
  },
  {
   "cell_type": "code",
   "execution_count": 45,
   "id": "5085798b",
   "metadata": {},
   "outputs": [],
   "source": [
    "\n",
    "# Get device\n",
    "device = \"cuda\" if torch.cuda.is_available() else \"cpu\"\n",
    "checkpoint_path = \"tts_models/en/vctk/vits\"\n",
    "tts = TTS(model_name=checkpoint_path,progress_bar=True).to(device)"
   ]
  },
  {
   "cell_type": "code",
   "execution_count": 46,
   "id": "91d1d84d",
   "metadata": {},
   "outputs": [],
   "source": [
    "voice_pool = [\n",
    "    \"p225\", \"p226\", \"p227\", \"p228\", \"p229\", \"p230\", \"p231\", \"p232\", \"p233\", \"p234\",\n",
    "    \"p236\", \"p237\", \"p238\", \"p239\", \"p240\", \"p241\", \"p243\", \"p244\", \"p245\", \"p246\",\n",
    "    \"p247\", \"p248\", \"p249\", \"p250\", \"p251\", \"p252\", \"p253\", \"p254\", \"p255\", \"p256\",\n",
    "    \"p257\", \"p258\", \"p259\", \"p260\", \"p261\", \"p262\", \"p263\", \"p264\", \"p265\", \"p266\",\n",
    "    \"p267\", \"p268\", \"p269\", \"p270\", \"p271\", \"p272\", \"p273\", \"p274\", \"p275\", \"p276\",\n",
    "    \"p277\", \"p278\", \"p279\", \"p280\", \"p281\", \"p282\", \"p283\", \"p284\", \"p285\", \"p286\",\n",
    "    \"p287\", \"p288\", \"p292\", \"p293\", \"p294\", \"p295\", \"p297\", \"p298\", \"p299\", \"p300\",\n",
    "    \"p301\", \"p302\", \"p303\", \"p304\", \"p305\", \"p306\", \"p307\", \"p308\", \"p310\", \"p311\",\n",
    "    \"p312\", \"p313\", \"p314\", \"p316\", \"p317\", \"p318\", \"p323\", \"p326\", \"p329\", \"p330\",\n",
    "    \"p333\", \"p334\", \"p335\", \"p336\", \"p339\", \"p340\", \"p341\", \"p343\", \"p345\", \"p347\",\n",
    "    \"p351\", \"p360\", \"p361\", \"p362\", \"p363\", \"p364\", \"p374\", \"p376\"\n",
    "]\n"
   ]
  },
  {
   "cell_type": "code",
   "execution_count": 47,
   "id": "a87cf47c",
   "metadata": {},
   "outputs": [],
   "source": [
    "import random"
   ]
  },
  {
   "cell_type": "code",
   "execution_count": 48,
   "id": "8c9386be",
   "metadata": {},
   "outputs": [
    {
     "name": "stdout",
     "output_type": "stream",
     "text": [
      "✅ Final audio saved to: final_output.wav\n"
     ]
    }
   ],
   "source": [
    "dialogue = response.text.strip()\n",
    "\n",
    "# Parse lines like \"Maria: Hi there\"\n",
    "lines = [line.strip() for line in dialogue.split('\\n') if ':' in line]\n",
    "speakers = list({line.split(':')[0].strip() for line in lines})\n",
    "random.shuffle(voice_pool)\n",
    "speaker_voice_map = {speaker: voice_pool[i] for i, speaker in enumerate(speakers)}\n",
    "\n",
    "# Create directory for temporary audio\n",
    "os.makedirs(\"temp_audio\", exist_ok=True)\n",
    "temp_files = []\n",
    "\n",
    "# Generate TTS per line\n",
    "for idx, line in enumerate(lines):\n",
    "    speaker, text = line.split(':', 1)\n",
    "    speaker = speaker.strip()\n",
    "    text = text.strip()\n",
    "    voice = speaker_voice_map[speaker]\n",
    "    \n",
    "    file_path = f\"temp_audio/line_{idx:03}.wav\"\n",
    "    tts.tts_to_file(text=text, speaker=voice, file_path=file_path)\n",
    "    temp_files.append(file_path)\n",
    "\n",
    "# Concatenate WAV files using `wave`\n",
    "output_file = \"final_output.wav\"\n",
    "\n",
    "with wave.open(output_file, 'wb') as out_wav:\n",
    "    with wave.open(temp_files[0], 'rb') as first:\n",
    "        out_wav.setparams(first.getparams())\n",
    "    \n",
    "    for fname in temp_files:\n",
    "        with wave.open(fname, 'rb') as w:\n",
    "            frames = w.readframes(w.getnframes())\n",
    "            out_wav.writeframes(frames)\n",
    "\n",
    "print(\"✅ Final audio saved to:\", output_file)"
   ]
  },
  {
   "cell_type": "code",
   "execution_count": null,
   "id": "d6c86c55",
   "metadata": {},
   "outputs": [],
   "source": []
  }
 ],
 "metadata": {
  "kernelspec": {
   "display_name": "de_en",
   "language": "python",
   "name": "python3"
  },
  "language_info": {
   "codemirror_mode": {
    "name": "ipython",
    "version": 3
   },
   "file_extension": ".py",
   "mimetype": "text/x-python",
   "name": "python",
   "nbconvert_exporter": "python",
   "pygments_lexer": "ipython3",
   "version": "3.10.16"
  }
 },
 "nbformat": 4,
 "nbformat_minor": 5
}
