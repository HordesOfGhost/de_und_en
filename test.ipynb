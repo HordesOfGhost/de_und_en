{
 "cells": [
  {
   "cell_type": "markdown",
   "id": "bfbe1b97",
   "metadata": {},
   "source": [
    "# Import Libraries"
   ]
  },
  {
   "cell_type": "code",
   "execution_count": 1,
   "id": "377601e0",
   "metadata": {},
   "outputs": [
    {
     "name": "stderr",
     "output_type": "stream",
     "text": [
      "c:\\Users\\ghost\\miniconda3\\envs\\de_en\\lib\\site-packages\\tqdm\\auto.py:21: TqdmWarning: IProgress not found. Please update jupyter and ipywidgets. See https://ipywidgets.readthedocs.io/en/stable/user_install.html\n",
      "  from .autonotebook import tqdm as notebook_tqdm\n"
     ]
    }
   ],
   "source": [
    "import google.generativeai as genai  \n",
    "from dotenv import load_dotenv\n",
    "import os"
   ]
  },
  {
   "cell_type": "code",
   "execution_count": 2,
   "id": "7c81e4c3",
   "metadata": {},
   "outputs": [],
   "source": [
    "api_key = os.getenv(\"GOOGLE_API_KEY\")\n",
    "genai.configure(api_key=api_key)  "
   ]
  },
  {
   "cell_type": "code",
   "execution_count": 4,
   "id": "d66340d7",
   "metadata": {},
   "outputs": [],
   "source": [
    "\n",
    "model = genai.GenerativeModel(\"gemini-2.0-flash\")\n"
   ]
  },
  {
   "cell_type": "code",
   "execution_count": 11,
   "id": "6e2cb78a",
   "metadata": {},
   "outputs": [],
   "source": [
    "response = model.generate_content(\"Make a conversation between two or more people where a person asks for direction. Make conversation as natural as possible. No need to explain why it sounds natural. I just need the naration part. Choose characters name in random.\")"
   ]
  },
  {
   "cell_type": "code",
   "execution_count": 12,
   "id": "83f98e7f",
   "metadata": {},
   "outputs": [
    {
     "name": "stdout",
     "output_type": "stream",
     "text": [
      "Okay, here's a snippet of conversation where someone asks for directions:\n",
      "\n",
      "**(Scene: A busy street corner. Maya, holding a map, approaches Liam who is leaning against a lamppost.)**\n",
      "\n",
      "**Maya:** \"Excuse me, sorry to bother you, but do you happen to know how to get to the City Museum from here?\"\n",
      "\n",
      "**Liam:** \"Oh, the City Museum? Yeah, I know it. It's not too far. Let me see... are you familiar with Elm Street?\"\n",
      "\n",
      "**Maya:** \"I think so. I saw a sign for it a couple of blocks back.\"\n",
      "\n",
      "**Liam:** \"Okay, great. Head back in that direction on this street until you get to Elm. Take a right onto Elm, and walk straight for about three blocks. You'll see a big park on your left.\"\n",
      "\n",
      "**Maya:** \"A park, okay.\"\n",
      "\n",
      "**Liam:** \"Yeah, the museum's right across the street from the park. Big stone building, can't miss it.\"\n",
      "\n",
      "**Maya:** \"Perfect! So, right on Elm, three blocks, across from the park. Got it. Thank you so much!\"\n",
      "\n",
      "**Liam:** \"No problem at all. Enjoy the museum!\"\n",
      "\n",
      "**(Just then, Chloe walks up, joining Liam)**\n",
      "\n",
      "**Chloe:** \"Liam, were you giving directions again?\"\n",
      "\n",
      "**Liam:** \"Hey, Chloe! Yeah, just helping out. That museum’s a popular spot.\"\n",
      "\n",
      "**Chloe:** \"Tell me about it! I swear I gave directions to three different people yesterday.\"\n",
      "\n",
      "**Maya:** (Smiling) \"Well, I appreciate the help! Thanks again!\"\n",
      "\n",
      "**(Maya walks off in the direction Liam indicated. Chloe turns back to Liam)**\n",
      "\n",
      "**Chloe:** \"So, still planning on going to that concert tonight?\"\n",
      "\n",
      "**Liam:** \"Definitely. Are you still in?\"\n",
      "\n"
     ]
    }
   ],
   "source": [
    "print(response.text)"
   ]
  },
  {
   "cell_type": "markdown",
   "id": "dbd38af0",
   "metadata": {},
   "source": [
    "# TTS"
   ]
  },
  {
   "cell_type": "code",
   "execution_count": 2,
   "id": "f33bcee0",
   "metadata": {},
   "outputs": [],
   "source": [
    "import torch\n",
    "from TTS.api import TTS\n"
   ]
  },
  {
   "cell_type": "code",
   "execution_count": 3,
   "id": "5e84a0af",
   "metadata": {},
   "outputs": [
    {
     "name": "stdout",
     "output_type": "stream",
     "text": [
      "<TTS.utils.manage.ModelManager object at 0x0000025BB87A01C0>\n"
     ]
    }
   ],
   "source": [
    "\n",
    "# Get device\n",
    "device = \"cuda\" if torch.cuda.is_available() else \"cpu\"\n",
    "\n",
    "# List available 🐸TTS models\n",
    "print(TTS().list_models())\n"
   ]
  },
  {
   "cell_type": "code",
   "execution_count": null,
   "id": "59a7ba91",
   "metadata": {},
   "outputs": [
    {
     "name": "stdout",
     "output_type": "stream",
     "text": [
      " > tts_models/multilingual/multi-dataset/xtts_v2 has been updated, clearing model cache...\n",
      " > You must confirm the following:\n",
      " | > \"I have purchased a commercial license from Coqui: licensing@coqui.ai\"\n",
      " | > \"Otherwise, I agree to the terms of the non-commercial CPML: https://coqui.ai/cpml\" - [y/n]\n"
     ]
    }
   ],
   "source": [
    "\n",
    "# Init TTS\n",
    "tts = TTS(\"tts_models/multilingual/multi-dataset/xtts_v2\").to(device)\n"
   ]
  },
  {
   "cell_type": "code",
   "execution_count": null,
   "id": "79e287ce",
   "metadata": {},
   "outputs": [],
   "source": [
    "\n",
    "# Run TTS\n",
    "# ❗ Since this model is multi-lingual voice cloning model, we must set the target speaker_wav and language\n",
    "# Text to speech list of amplitude values as output\n",
    "wav = tts.tts(text=\"Hello world!\", speaker_wav=\"my/cloning/audio.wav\", language=\"en\")\n",
    "# Text to speech to a file\n",
    "tts.tts_to_file(text=\"Hello world!\", speaker_wav=\"my/cloning/audio.wav\", language=\"en\", file_path=\"output.wav\")"
   ]
  }
 ],
 "metadata": {
  "kernelspec": {
   "display_name": "de_en",
   "language": "python",
   "name": "python3"
  },
  "language_info": {
   "codemirror_mode": {
    "name": "ipython",
    "version": 3
   },
   "file_extension": ".py",
   "mimetype": "text/x-python",
   "name": "python",
   "nbconvert_exporter": "python",
   "pygments_lexer": "ipython3",
   "version": "3.10.16"
  }
 },
 "nbformat": 4,
 "nbformat_minor": 5
}
